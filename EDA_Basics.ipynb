{
 "cells": [
  {
   "cell_type": "markdown",
   "metadata": {},
   "source": [
    "# EDA:\n",
    "\n",
    "**Exploratory Data Analysis** is task of analyzing data using simple tools , using statistics, using some plotting tools , from linear algebra and other imp techniques. It is important to understand the dataset before applying it build a model.\n",
    "\n",
    "This is very important step and first thing when we go for model building.\n",
    "\n",
    "It is called **Exploratory** because we do not know anything about data initially. To get the complete understanding about the data we perform EDA."
   ]
  },
  {
   "cell_type": "code",
   "execution_count": null,
   "metadata": {},
   "outputs": [],
   "source": [
    "# importing all required packages used for EDA \n",
    "import pandas as pd\n",
    "import matplotlib.pyplot as plt\n",
    "import numpy as np\n",
    "import seaborn as sns\n",
    "import matplotlib\n",
    "import warnings\n",
    "warnings.filterwarnings(\"ignore\")"
   ]
  },
  {
   "cell_type": "markdown",
   "metadata": {},
   "source": [
    "> OBJECTIVE OF IRIS FLOWER DATASET : CLASSIFY THE NEW FLOWER AS BELONGING TO ONE OF THE 3 CLASSES GIVEN THE 4 FEATURES.\n",
    "\n",
    "> COLUMN NAME : VARIABLES OR INDEPENDENT VARIABLES\n",
    "\n",
    "> VALUES : DATA POINTS OR VECTOR OR OBSERVATION (vectors -- > n-dimensional array, 1 d vector --> scalar)\n",
    "\n",
    "> TARGET : CLASS LABEL OR DEPENDENT VARIABLES OR CLASS NAMES OR OUTPUT VARIABLES"
   ]
  },
  {
   "cell_type": "markdown",
   "metadata": {},
   "source": [
    "### Q.1: How many data points and features are in the dataset ? "
   ]
  },
  {
   "cell_type": "code",
   "execution_count": null,
   "metadata": {},
   "outputs": [],
   "source": [
    "#step 1: load data and get shape\n",
    "\n",
    "data = pd.read_csv(\"D:\\\\PycharmProjects\\\\Edureka_ML\\\\Iris.csv\")\n",
    "data.drop('Id',axis = 1,inplace = True)\n",
    "data.shape"
   ]
  },
  {
   "cell_type": "markdown",
   "metadata": {},
   "source": [
    "### Q.2: What are the column (feature) names in dataset ?  "
   ]
  },
  {
   "cell_type": "code",
   "execution_count": null,
   "metadata": {},
   "outputs": [],
   "source": [
    "# step 2: get feature names\n",
    "data.columns"
   ]
  },
  {
   "cell_type": "markdown",
   "metadata": {},
   "source": [
    "### Q.3: How many classes are present in dataset ?"
   ]
  },
  {
   "cell_type": "code",
   "execution_count": null,
   "metadata": {},
   "outputs": [],
   "source": [
    "# get unique value from class (no.of class)\n",
    "data['Species'].unique()"
   ]
  },
  {
   "cell_type": "markdown",
   "metadata": {},
   "source": [
    "### Q.4: How many data points belongs to each class?Also check whether the dataset is balanced or imbalenced ??"
   ]
  },
  {
   "cell_type": "code",
   "execution_count": null,
   "metadata": {},
   "outputs": [],
   "source": [
    "# get count of data points belongs to each class\n",
    "data['Species'].value_counts()\n",
    "\n",
    "# A balanced dataset as each class is having equal datapoints."
   ]
  },
  {
   "cell_type": "markdown",
   "metadata": {},
   "source": [
    "# Histogram Plot:\n",
    "\n",
    "It gives the frequency (or) distribution of dataset in the form of bargraph."
   ]
  },
  {
   "cell_type": "code",
   "execution_count": null,
   "metadata": {},
   "outputs": [],
   "source": [
    "matplotlib.style.use(\"ggplot\")\n",
    "data.hist(edgecolor = 'black',linewidth = 1.2,figsize = (12,8)) # x-axis : data, y-axis : count\n",
    "plt.show()"
   ]
  },
  {
   "cell_type": "markdown",
   "metadata": {},
   "source": [
    "### Observation:\n",
    "\n",
    "[PL : Petal Length, PW : Petal Width, SL : Sepal Length, SW : Sepal Width]\n",
    "1. **range of data:** PL- 1 to 7, PW - 0 to 2.5, SL - 4 to 8, SW - 2.0 to 4.5\n",
    "2. **most occcuring values are in between:** PL - 1 to 1.5, PW - 0 to 0.3,SL- 5.5 to 5.7,SW- 3 to 3.25\n",
    "3. **least occuring values are in between:** PL - 3 to 3.5, PW - 0.5 to 0.7, SL- 7 to 7.5,SW- 4 to 4.5"
   ]
  },
  {
   "cell_type": "markdown",
   "metadata": {},
   "source": [
    "# PDF and CDF :\n",
    "\n",
    "**PDF: Probability Density Function**\n",
    "PDF tells us how many % of distribution are presented at the selected value of feature.\n",
    "\n",
    "**CDF: Cumulative Density Function**\n",
    "CDF tells us how many % of distributions are less than or equal to the selected feature value.\n",
    "\n",
    "> Ex. if Petal Length = 1.7 (selected feature value)  and % of distribution at this point is 40 (at PDF) and 80 (at CDF). that means **There are 40% of data having petal length of 1.7 and  There are 80% of data having petal length less than or equal to 1.7.**\n",
    "\n",
    "> $\\frac{\\mathrm{d} (CDF) }{\\mathrm{d} x} = PDF$ and $\\int (PDF) = CDF$"
   ]
  },
  {
   "cell_type": "code",
   "execution_count": null,
   "metadata": {},
   "outputs": [],
   "source": [
    "setosa = data[data['Species'] == 'Iris-setosa']\n",
    "versicolor = data[data['Species'] == 'Iris-versicolor']\n",
    "virginica = data[data['Species'] == 'Iris-virginica']\n",
    "\n",
    "plt.figure(figsize = (16,4))\n",
    "\n",
    "##########__SETOSA__############\n",
    "plt.subplot(131)\n",
    "# PDF\n",
    "counts,bin = np.histogram(setosa['PetalLengthCm'],bins = 10,density = True)\n",
    "pdf = counts/sum(counts)\n",
    "#CDF\n",
    "cdf = np.cumsum(pdf) # get cdf\n",
    "plt.plot(bin[1:],pdf,label = 'PDF_Setosa')\n",
    "plt.plot(bin[1:],cdf,label = 'CDF_Setosa')\n",
    "plt.xlabel('petal length')\n",
    "plt.title('Setosa')\n",
    "plt.legend()\n",
    "\n",
    "##########__VERSICOLOR__############\n",
    "plt.subplot(132)\n",
    "# PDF\n",
    "counts,bin = np.histogram(versicolor['PetalLengthCm'],bins = 10,density = True)\n",
    "pdf = counts/sum(counts)\n",
    "#CDF\n",
    "cdf = np.cumsum(pdf) # get cdf\n",
    "plt.plot(bin[1:],pdf,label = 'PDF_versicolor')\n",
    "plt.plot(bin[1:],cdf,label = 'CDF_versicolor')\n",
    "plt.xlabel('petal length')\n",
    "plt.title('Versicolor')\n",
    "plt.legend()\n",
    "\n",
    "##########__VIRGINICA__############\n",
    "plt.subplot(133)\n",
    "# PDF\n",
    "counts,bin = np.histogram(virginica['PetalLengthCm'],bins = 10,density = True)\n",
    "pdf = counts/sum(counts)\n",
    "#CDF\n",
    "cdf = np.cumsum(pdf) # get cdf\n",
    "plt.plot(bin[1:],pdf,label = 'PDF_virginica')\n",
    "plt.plot(bin[1:],cdf,label = 'CDF_virginica')\n",
    "plt.legend()\n",
    "plt.xlabel('petal length')\n",
    "plt.title('Virginica')\n",
    "\n",
    "plt.show()"
   ]
  },
  {
   "cell_type": "markdown",
   "metadata": {},
   "source": [
    "# 2 - D Scatter Plot:\n",
    "\n",
    "[bivariate analysis]"
   ]
  },
  {
   "cell_type": "code",
   "execution_count": null,
   "metadata": {},
   "outputs": [],
   "source": [
    "# Always understand the axis : labels and scales\n",
    "matplotlib.style.use(\"ggplot\") # set style using matplotlib\n",
    "\n",
    "data.plot(kind = \"scatter\",x = \"SepalLengthCm\",y = \"SepalWidthCm\") # using pandas\n",
    "plt.show()\n",
    "\n",
    "\n",
    "# same thing using matplotlib\n",
    "#plt.scatter(x,y,label = 'Points_1',color = 'k',s = 70,marker = 'o') # scatter plot 1"
   ]
  },
  {
   "cell_type": "code",
   "execution_count": null,
   "metadata": {},
   "outputs": [],
   "source": [
    "# not making much sense. from the above graph we only get the information that\n",
    "# range of x (SepalLength) ----> 4 t0 8 and y(SepalWidth) ----> 2 to 4.5"
   ]
  },
  {
   "cell_type": "markdown",
   "metadata": {},
   "source": [
    "### PLOT DIFFERENT COLORS OF DATAPOINTS FOR EACH CLASS"
   ]
  },
  {
   "cell_type": "code",
   "execution_count": null,
   "metadata": {},
   "outputs": [],
   "source": [
    "sns.set_style(\"whitegrid\") # set style using seaborn\n",
    "\n",
    "sns.FacetGrid(data,hue = \"Species\",height = 4).map(plt.scatter,'SepalLengthCm','SepalWidthCm').add_legend()\n",
    "plt.show()\n"
   ]
  },
  {
   "cell_type": "markdown",
   "metadata": {},
   "source": [
    "### observation from the plot:\n",
    "1. setosa can be saperated by linear line (linearly saperable) but versicolor and virginica can be difficult to classify (not linearly saprable).\n",
    "\n",
    "# 3-D Scatter Plot:\n",
    "\n",
    "using plotly.\n",
    "\n",
    "# Pair Plot:\n",
    "\n",
    "[bivariate analysis]"
   ]
  },
  {
   "cell_type": "code",
   "execution_count": null,
   "metadata": {},
   "outputs": [],
   "source": [
    "# can see all 4 variaables in one plot.\n",
    "# pairwise scatter plot.\n",
    "# limitations: only possible to view 2-d plots and not good for large no. of features."
   ]
  },
  {
   "cell_type": "code",
   "execution_count": null,
   "metadata": {},
   "outputs": [],
   "source": [
    "sns.set_style(\"whitegrid\")\n",
    "sns.pairplot(data, hue = \"Species\",height = 3,aspect = 1)\n",
    "plt.show()"
   ]
  },
  {
   "cell_type": "markdown",
   "metadata": {},
   "source": [
    "### observation from the plot:\n",
    "1. PetalLength and PetalWidth are most useful features to identify various flower types.\n",
    "2. satosa can be easily classified but verginica and versicolor are difficult to classify.\n",
    "3. we can use \"lines\" or \"if-else\" condition to build simple model to classify the flowers.\n",
    "\n",
    "### Limitations:\n",
    "if we have less no. of features then all the plots in pairplot can be viewed easily but if we have large no. of features then pairplot is not a good choice. "
   ]
  },
  {
   "cell_type": "markdown",
   "metadata": {},
   "source": [
    "# Univariate Analysis :\n",
    "(use simple probability density function and hist plots)\n",
    "\n",
    "\n",
    "**One variable analysis is called univariate analysis.**\n",
    "\n",
    "> (Q.) which of the 4 variable are more useful than other ??"
   ]
  },
  {
   "cell_type": "code",
   "execution_count": null,
   "metadata": {},
   "outputs": [],
   "source": [
    "sns.FacetGrid(data,hue=\"Species\",height = 5).map(sns.distplot,'PetalLengthCm').add_legend()\n",
    "plt.show()\n",
    "sns.FacetGrid(data,hue=\"Species\",height = 5).map(sns.distplot,'PetalWidthCm').add_legend()\n",
    "plt.show()\n",
    "sns.FacetGrid(data,hue=\"Species\",height = 5).map(sns.distplot,'SepalLengthCm').add_legend()\n",
    "plt.show()\n",
    "sns.FacetGrid(data,hue=\"Species\",height = 5).map(sns.distplot,'SepalWidthCm').add_legend()\n",
    "plt.show()"
   ]
  },
  {
   "cell_type": "markdown",
   "metadata": {},
   "source": [
    "### Observation from Univariate analysis:\n",
    "\n",
    "**A Good feature should have well saperated datapoints of each class. The distance between each class should be maximum.**\n",
    "\n",
    "1. In petal length feature, setosa is well saperated than other two classes and there is slight overlap between versicolor and verginica.\n",
    "2. In petal width feature, there is small intersection point of setosa with versicolor but can be neglected. The distribution of versicolor and verginica is wide and having slight (but more than petal length) overlap between versicolor and verginica.\n",
    "3. In sepal length and sepal width there is high overlap between classes. Saperation of these classes are not possible using straight line. they are quite difficult. Overlapping area is more in sepal width than sepal length.\n",
    "\n",
    "*If we have to choose best feature, then **petal length** will be preferred.*\n",
    "\n",
    "> **PETAL LENGTH >  PETAL WIDTH >> SEPAL LENGTH >> SEPAL WIDTH**   (Goodness of feature)"
   ]
  },
  {
   "cell_type": "markdown",
   "metadata": {},
   "source": [
    "# Mean:\n",
    "\n",
    "**Mean : simple average** [sum of obseravation / no. of observation]\n",
    "\n",
    "Mean tells us about central tendancy. It gives us the average bahaviour of our data.\n",
    "If outlier present in the dataset then it will affect mean value. "
   ]
  },
  {
   "cell_type": "code",
   "execution_count": null,
   "metadata": {},
   "outputs": [],
   "source": [
    "data['Species'].unique()"
   ]
  },
  {
   "cell_type": "code",
   "execution_count": null,
   "metadata": {},
   "outputs": [],
   "source": [
    "setosa = data[data['Species'] == 'Iris-setosa']\n",
    "versicolor = data[data['Species'] == 'Iris-versicolor']\n",
    "virginica = data[data['Species'] == 'Iris-virginica']"
   ]
  },
  {
   "cell_type": "code",
   "execution_count": null,
   "metadata": {},
   "outputs": [],
   "source": [
    "print('Mean:Setosa')\n",
    "print(np.mean(setosa['PetalLengthCm']))\n",
    "print('************************')\n",
    "print('Mean:Versicolor')\n",
    "print(np.mean(versicolor['PetalLengthCm']))\n",
    "print('************************')\n",
    "print('Mean:Virginica')\n",
    "print(np.mean(virginica['PetalLengthCm']))\n",
    "\n",
    "# Mean with outlier\n",
    "print(\"************************\\nOutlier effect :\\nFor setosa (PetalLength):\",end = \" \")\n",
    "print(np.mean(np.append(setosa['PetalLengthCm'],50)))  # add one point which is 50 (very large as compared to other)"
   ]
  },
  {
   "cell_type": "markdown",
   "metadata": {},
   "source": [
    "### Observation :\n",
    "1. Setosa has very small petal length as compared to the petal length of verginica and versicolor.\n",
    "2. Outliers drastically afftect the mean value. which is not good for model."
   ]
  },
  {
   "cell_type": "markdown",
   "metadata": {},
   "source": [
    "# Std. Deviation:\n",
    "\n",
    "**Std.deviation: spreading** [square root of mean]\n",
    "\n",
    "Std. Devaiation tells us how much spread our distribution is (or) how far our data point from its mean. It is square root of variance. Highly affected by outliers.\n",
    "\n",
    ">**Lesser the std. deviation --> spreading is less --> narrow distribution -- > data point is more closer to mean --> good model**"
   ]
  },
  {
   "cell_type": "code",
   "execution_count": null,
   "metadata": {},
   "outputs": [],
   "source": [
    "print('STD:Setosa')\n",
    "print(np.std(setosa['PetalLengthCm']))\n",
    "print('************************')\n",
    "print('STD:Versicolor')\n",
    "print(np.std(versicolor['PetalLengthCm']))\n",
    "print('************************')\n",
    "print('STD:Virginica')\n",
    "print(np.std(virginica['PetalLengthCm']))\n",
    "\n",
    "# Std deviation with outlier\n",
    "print(\"************************\\nOutlier effect :\\nFor setosa (PetalLength):\",end = \" \")\n",
    "print(np.std(np.append(setosa['PetalLengthCm'],50)))  # add one point which is 50 (very large as compared to other)"
   ]
  },
  {
   "cell_type": "markdown",
   "metadata": {},
   "source": [
    "#### Observation:\n",
    "1. std. deviation is less for setosa. That means distribution is narrrow and it is good feature.\n",
    "2. affected by outliers."
   ]
  },
  {
   "cell_type": "markdown",
   "metadata": {},
   "source": [
    "# Median:\n",
    "\n",
    "Mid value of sorted datapoints. It is also a measure of central tendancy just like the mean **but median is not (or less) affected by outliers if no. of outliers are less than 50%.**"
   ]
  },
  {
   "cell_type": "code",
   "execution_count": null,
   "metadata": {},
   "outputs": [],
   "source": [
    "print('Median:Setosa')\n",
    "print(np.median(setosa['PetalLengthCm']))\n",
    "print('************************')\n",
    "print('Median:Versicolor')\n",
    "print(np.median(versicolor['PetalLengthCm']))\n",
    "print('************************')\n",
    "print('Median:Virginica')\n",
    "print(np.median(virginica['PetalLengthCm']))\n",
    "\n",
    "# Median with outlier\n",
    "print(\"************************\\nOutlier effect :\\nFor setosa (PetalLength):\",end = \" \")\n",
    "print(np.median(np.append(setosa['PetalLengthCm'],50)))  # add one point which is 50 (very large as compared to other)"
   ]
  },
  {
   "cell_type": "markdown",
   "metadata": {},
   "source": [
    "### Observation:\n",
    "1. Setosa has very less median value.\n",
    "2. all the median values are approximately equal to mean values.\n",
    "3. Median value is not affected by outliers if no. of outliers are less than 50% of data otherwise it will affected by this."
   ]
  },
  {
   "cell_type": "markdown",
   "metadata": {},
   "source": [
    "# Quantile & Percentile:\n",
    "\n",
    "**Percentile gives us the location of data points from the sorted array, starting with index = 1.**\n",
    "\n",
    "**nth percentile : data points or value at nth position** [index = n, starting index = 0]......It tells us that n% of  values are lesser than the nth percentile value and remaining (total no. of data points - n )% of values are greater than nth percentile.\n",
    "\n",
    ">Ex. An array having 100 datapoints. so, 10th percentile value = value at 10th position. that means 10% of values are less than 10th percentile value and 90% of values are more than 10th percentile value. \n",
    "\n",
    "**50th percentile : Median**\n",
    "\n",
    "**Quantile is 25th, 50th, 75th, 100th percentile values. They are 1st,2nd,3rd and 4th quantile respectively.**"
   ]
  },
  {
   "cell_type": "code",
   "execution_count": null,
   "metadata": {},
   "outputs": [],
   "source": [
    "print('Quantile:Setosa')\n",
    "print(np.percentile(setosa['PetalLengthCm'],np.arange(0,100,25)))\n",
    "print('Quantile:Versicolor')\n",
    "print(np.percentile(versicolor['PetalLengthCm'],np.arange(0,100,25)))\n",
    "print('Quantile:Virginica')\n",
    "print(np.percentile(virginica['PetalLengthCm'],np.arange(0,100,25)))"
   ]
  },
  {
   "cell_type": "code",
   "execution_count": null,
   "metadata": {},
   "outputs": [],
   "source": [
    "print(\"*******************\\n  90th percentile:\\n*******************\")\n",
    "print('Percentile:Setosa')\n",
    "print(np.percentile(setosa['PetalLengthCm'],90))\n",
    "print('Percentile:Versicolor')\n",
    "print(np.percentile(versicolor['PetalLengthCm'],90))\n",
    "print('Percentile:Virginica')\n",
    "print(np.percentile(virginica['PetalLengthCm'],90))\n",
    "print(\"\\n*******************\\n  50th percentile:\\n*******************\")\n",
    "print('Percentile:Setosa')\n",
    "print(np.percentile(setosa['PetalLengthCm'],50))\n",
    "print('Percentile:Versicolor')\n",
    "print(np.percentile(versicolor['PetalLengthCm'],50))\n",
    "print('Percentile:Virginica')\n",
    "print(np.percentile(virginica['PetalLengthCm'],50))"
   ]
  },
  {
   "cell_type": "markdown",
   "metadata": {},
   "source": [
    "### Observation:\n",
    "1. 50th percentile value is equal to median.\n",
    "2. 90th and 99th percentile values are important.\n"
   ]
  },
  {
   "cell_type": "markdown",
   "metadata": {},
   "source": [
    "# Median Absolute Deviation (MAD):\n",
    "\n",
    "One of the idea which is somehow equivalent to std. deviation.\n",
    "MAD is **Median of absolute deviation of any datapoints from its median.**\n",
    "\n",
    ">  $MAD = Median(|x_{i} - median|_{i= 1:n})$\n",
    "\n",
    "we can also do it with mean but if there is any corrupted point then it will affected also."
   ]
  },
  {
   "cell_type": "code",
   "execution_count": null,
   "metadata": {},
   "outputs": [],
   "source": [
    "from statsmodels import robust\n",
    "\n",
    "print('MAD:Setosa')\n",
    "print(robust.mad(setosa['PetalLengthCm']))\n",
    "print('************************')\n",
    "print('MAD:Versicolor')\n",
    "print(robust.mad(versicolor['PetalLengthCm']))\n",
    "print('************************')\n",
    "print('MAD:Virginica')\n",
    "print(robust.mad(virginica['PetalLengthCm']))"
   ]
  },
  {
   "cell_type": "markdown",
   "metadata": {},
   "source": [
    "# Box Plots and Whiskers:\n",
    "\n",
    "Box plots gives us the density of datapoints at different range of values (inter quartile range  = 75th - 25th percentile value). It is a graph that gives you a good indication of how the values in the data are spread out.\n",
    "\n",
    "By simply seeing the data distribution in any plot we can not tell that what is 25th percentile or 75th percentile of value.\n",
    "so, we use Box plot for this purpose."
   ]
  },
  {
   "cell_type": "code",
   "execution_count": null,
   "metadata": {},
   "outputs": [],
   "source": [
    "sns.boxplot(x = \"Species\",y = \"PetalLengthCm\",data = data)\n",
    "plt.show()"
   ]
  },
  {
   "cell_type": "markdown",
   "metadata": {},
   "source": [
    "> for each boxplot, *Lower layer : 25th percentile, mid layer: 50th percentile (median), upper layer : 75th percentile*\n",
    "\n",
    "1. Not imp analysis from x- axis. but very imp analysis from y-axis.\n",
    "2. whiskers are the upper and lower end of boxplot. There is no standard way to represent whiskers. It is taken as **\"min-max values\" or \"(Q1-1.5xIQR) to (Q3 + 1.5xIQR)\" values.**"
   ]
  },
  {
   "cell_type": "code",
   "execution_count": null,
   "metadata": {},
   "outputs": [],
   "source": [
    "from IPython.display import Image\n",
    "Image(\"C:/Users/sneha/Desktop/box.jpg\",width = 500)"
   ]
  },
  {
   "cell_type": "markdown",
   "metadata": {},
   "source": [
    "# Violin Plot:\n",
    "\n",
    "Combine the adavantages of box plot and histogram plot and simplify it.\n",
    "\n",
    "> Densor (high density) region of data : Fatter or thicker\n",
    "\n",
    "> Sparser (low density) region of data : thinner"
   ]
  },
  {
   "cell_type": "code",
   "execution_count": null,
   "metadata": {},
   "outputs": [],
   "source": [
    "sns.violinplot(x = 'Species', y = 'PetalLengthCm', data = data, size = 8)\n",
    "plt.show()"
   ]
  },
  {
   "cell_type": "markdown",
   "metadata": {},
   "source": [
    "### Observation:\n",
    "1. Inner part of violin plot is box plot which give us min whisker, 1st quartile, median, 2nd quartile, max whisker values.\n",
    "2. Outer part of violin plot is probability distribution (or) distribution of data like in histogram plot."
   ]
  },
  {
   "cell_type": "markdown",
   "metadata": {},
   "source": [
    "# Multivariate PDF, Contour plot:"
   ]
  },
  {
   "cell_type": "code",
   "execution_count": null,
   "metadata": {},
   "outputs": [],
   "source": [
    "# 2-D density plot , contour plot\n",
    "setosa = data[data['Species'] == 'Iris-setosa']\n",
    "sns.jointplot(x = 'PetalLengthCm',y = 'PetalWidthCm',data = setosa, kind = \"kde\")\n",
    "plt.show()"
   ]
  },
  {
   "cell_type": "markdown",
   "metadata": {},
   "source": [
    "### Observation:\n",
    "1. This is contour probability density plot.\n",
    "2. The darker side of the plot shows the high density region of data.\n",
    "3. The lighter side of the plot shows less density region of data.\n",
    "4. It can be viewed in 3d plot in which the darker part will have more height than lighter part."
   ]
  },
  {
   "cell_type": "code",
   "execution_count": null,
   "metadata": {},
   "outputs": [],
   "source": [
    "# In 3-d plot it will look like this plot\n",
    "from IPython.display import Image\n",
    "Image(\"C:/Users/sneha/Desktop/pic.jpg\",width = 300)"
   ]
  },
  {
   "cell_type": "markdown",
   "metadata": {},
   "source": [
    "### 1 -d density plots : Probability Density Plots, Histogram \n",
    "### 2 -d density plots : Contour Density Plots\n"
   ]
  },
  {
   "cell_type": "markdown",
   "metadata": {},
   "source": [
    "# EDA imp points:\n",
    "1. Write observation after each plot and write it in simple english , understandable by everyone.\n",
    "2. Focus on objective (the problem you are solving). \n",
    "3. Perform all EDA aligned with objective."
   ]
  }
 ],
 "metadata": {
  "kernelspec": {
   "display_name": "Python 3",
   "language": "python",
   "name": "python3"
  },
  "language_info": {
   "codemirror_mode": {
    "name": "ipython",
    "version": 3
   },
   "file_extension": ".py",
   "mimetype": "text/x-python",
   "name": "python",
   "nbconvert_exporter": "python",
   "pygments_lexer": "ipython3",
   "version": "3.7.5"
  }
 },
 "nbformat": 4,
 "nbformat_minor": 4
}
